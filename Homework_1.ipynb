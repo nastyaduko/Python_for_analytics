{
 "cells": [
  {
   "cell_type": "markdown",
   "id": "2c70498f",
   "metadata": {},
   "source": [
    "## Задание 2"
   ]
  },
  {
   "attachments": {},
   "cell_type": "markdown",
   "id": "6dbd3431",
   "metadata": {},
   "source": [
    "На складе лежат разные фрукты в разном количестве.\n",
    "Нужно написать функцию, которая на вход принимает любое количество названий фруктов и их количество, а возвращает общее количество фруктов на складе"
   ]
  },
  {
   "cell_type": "code",
   "execution_count": 3,
   "id": "22023b3d",
   "metadata": {},
   "outputs": [],
   "source": [
    "data = {\n",
    "    'apples': 100,\n",
    "    'oranges': 200,\n",
    "    'cherries': 300\n",
    "}"
   ]
  },
  {
   "cell_type": "code",
   "execution_count": 4,
   "id": "c45418a1",
   "metadata": {},
   "outputs": [],
   "source": [
    "def quantity(d: dict):\n",
    "    summa = 0\n",
    "    for k, v in d.items():\n",
    "        summa += v\n",
    "    return summa"
   ]
  },
  {
   "cell_type": "code",
   "execution_count": 5,
   "id": "bd431423",
   "metadata": {},
   "outputs": [
    {
     "data": {
      "text/plain": [
       "600"
      ]
     },
     "execution_count": 5,
     "metadata": {},
     "output_type": "execute_result"
    }
   ],
   "source": [
    "quantity(data)"
   ]
  },
  {
   "cell_type": "markdown",
   "id": "29b83b81",
   "metadata": {},
   "source": [
    "## Задание 3"
   ]
  },
  {
   "attachments": {},
   "cell_type": "markdown",
   "id": "f6581b2f",
   "metadata": {},
   "source": [
    "Дан список с затратами на рекламу. Но в данных есть ошибки, некоторые затраты имеют отрицательную величину. Удалите такие значения из списка и посчитайте суммарные затраты.\n",
    "Используйте list comprehensions"
   ]
  },
  {
   "cell_type": "code",
   "execution_count": 12,
   "id": "68704afb",
   "metadata": {},
   "outputs": [],
   "source": [
    "my_list = [100, 125, -90, 345, 655, -1, 0, 200]"
   ]
  },
  {
   "cell_type": "code",
   "execution_count": 18,
   "id": "d863f1d8",
   "metadata": {},
   "outputs": [],
   "source": [
    "summa = sum([el for el in my_list if el > 0])"
   ]
  },
  {
   "cell_type": "code",
   "execution_count": 19,
   "id": "167e9de4",
   "metadata": {},
   "outputs": [
    {
     "data": {
      "text/plain": [
       "1425"
      ]
     },
     "execution_count": 19,
     "metadata": {},
     "output_type": "execute_result"
    }
   ],
   "source": [
    "summa"
   ]
  },
  {
   "cell_type": "markdown",
   "id": "c833dcc3",
   "metadata": {},
   "source": [
    "## Задание 4"
   ]
  },
  {
   "cell_type": "code",
   "execution_count": 20,
   "id": "1667f6ae",
   "metadata": {},
   "outputs": [],
   "source": [
    "list_dates = ['2021-09-14', '2021-12-15', '2021-09-08', '2021-12-05', '2021-10-09', '2021-09-30', '2021-12-22', '2021-11-29', '2021-12-24', '2021-11-26', '2021-10-27', '2021-12-18', '2021-11-09', '2021-11-23', '2021-09-27', '2021-10-02', '2021-12-27', '2021-09-20', '2021-12-13', '2021-11-01', '2021-11-09', '2021-12-06', '2021-12-08', '2021-10-09', '2021-10-31', '2021-09-30', '2021-11-09', '2021-12-13', '2021-10-26', '2021-12-09']"
   ]
  },
  {
   "cell_type": "code",
   "execution_count": 21,
   "id": "4d87dc79",
   "metadata": {},
   "outputs": [],
   "source": [
    "list_sums = [1270, 8413, 9028, 3703, 5739, 4095, 295, 4944, 5723, 3701, 4471, 651, 7037, 4274, 6275, 4988, 6930, 2971, 6592, 2004, 2822, 519, 3406, 2732, 5015, 2008, 316, 6333, 5700, 2887]"
   ]
  },
  {
   "attachments": {},
   "cell_type": "markdown",
   "id": "1dac14d2",
   "metadata": {},
   "source": [
    "### 4.1 Найдите, какая выручка у компании в ноябре\n",
    "Используйте list comprehensions"
   ]
  },
  {
   "cell_type": "code",
   "execution_count": 28,
   "id": "2cdc5b16",
   "metadata": {},
   "outputs": [],
   "source": [
    "summa = sum([list_sums[i] for i in range(len(list_dates)) if list_dates[i][5:7] == '11'])"
   ]
  },
  {
   "cell_type": "code",
   "execution_count": 29,
   "id": "9a41004a",
   "metadata": {},
   "outputs": [
    {
     "data": {
      "text/plain": [
       "25098"
      ]
     },
     "execution_count": 29,
     "metadata": {},
     "output_type": "execute_result"
    }
   ],
   "source": [
    "summa"
   ]
  },
  {
   "attachments": {},
   "cell_type": "markdown",
   "id": "09b14a73",
   "metadata": {},
   "source": [
    "### 4.2 Найдите выручку компании в зависимости от месяца\n",
    "Для этого напишите функцию, которая на вход принимает список с датами и список с выручкой, а на выходе словарь, где ключи - это месяцы, а значения - это выручка."
   ]
  },
  {
   "cell_type": "code",
   "execution_count": 61,
   "id": "44cabd5a",
   "metadata": {},
   "outputs": [],
   "source": [
    "def revenue_monthly(l1: list, l2: list) -> dict:\n",
    "    new_list = [0 for _ in range(13)]\n",
    "    my_dict = {}\n",
    "    for i in range(len(list_dates)):\n",
    "        new_list[int(l1[i][5:7])] += l2[i]\n",
    "    my_list = new_list[9:13]\n",
    "    my_dict = {i + 9 : my_list[i] for i in range(len(my_list))}\n",
    "    return my_dict"
   ]
  },
  {
   "cell_type": "code",
   "execution_count": 62,
   "id": "79942359",
   "metadata": {},
   "outputs": [
    {
     "data": {
      "text/plain": [
       "{9: 25647, 10: 28645, 11: 25098, 12: 45452}"
      ]
     },
     "execution_count": 62,
     "metadata": {},
     "output_type": "execute_result"
    }
   ],
   "source": [
    "revenue_monthly(list_dates, list_sums)"
   ]
  }
 ],
 "metadata": {
  "kernelspec": {
   "display_name": "Python 3 (ipykernel)",
   "language": "python",
   "name": "python3"
  },
  "language_info": {
   "codemirror_mode": {
    "name": "ipython",
    "version": 3
   },
   "file_extension": ".py",
   "mimetype": "text/x-python",
   "name": "python",
   "nbconvert_exporter": "python",
   "pygments_lexer": "ipython3",
   "version": "3.10.9"
  }
 },
 "nbformat": 4,
 "nbformat_minor": 5
}
